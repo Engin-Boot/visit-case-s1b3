{
  "nbformat": 4,
  "nbformat_minor": 0,
  "metadata": {
    "colab": {
      "name": "CSVGenerator.ipynb",
      "provenance": [],
      "collapsed_sections": []
    },
    "kernelspec": {
      "name": "python3",
      "display_name": "Python 3"
    }
  },
  "cells": [
    {
      "cell_type": "code",
      "metadata": {
        "id": "Yr8GG_agehPo",
        "colab_type": "code",
        "colab": {
          "base_uri": "https://localhost:8080/",
          "height": 34
        },
        "outputId": "d7e00191-b5fc-4514-cc3d-8fb5e98450c2"
      },
      "source": [
        "import numpy as np\n",
        "import pandas as pd\n",
        "import datetime as dt\n",
        "from random import randint as randi\n",
        "\n",
        "startDate1 = dt.datetime(2020 , 1 , 1)\n",
        "endDate1 = dt.datetime(2020, 1, 1 , 23, 59, 59)\n",
        "\n",
        "interval1 = dt.timedelta(seconds = 900)\n",
        "listOfTimesInDay = []\n",
        "\n",
        "while(startDate1 <= endDate1):\n",
        "  date1 = str(startDate1).split(\" \")[1]\n",
        "  date2 = str(startDate1 + interval1).split(\" \")[1]\n",
        "\n",
        "  listOfTimesInDay.append(date1 +\" - \"+ date2)\n",
        "  startDate1 = startDate1 + interval1\n",
        "\n",
        "monthDictionary = {\"January\" : (1 , 31) , \"February\" : (2 , 28) , \"March\" : (3 , 31) , \"April\" : (4 , 30) , \"May\" : (5 , 31) , \"June\" : (6 , 30) , \"July\" : (7 , 31) , \"August\" : (8 , 31) , \"September\" : (9 , 30) , \"October\" : (10 , 31) , \"November\" : (11 , 30) , \"December\" : (12 , 31)}\n",
        "month = input(\"Please Enter the month : \")\n",
        "\n",
        "startDate = dt.datetime(2020 , monthDictionary[month][0] , 1)\n",
        "endDate = dt.datetime(2020, monthDictionary[month][0], monthDictionary[month][1])#, 23, 59, 59)\n",
        "\n",
        "interval = dt.timedelta(days = 1)\n",
        "listOfDatesInTheMonth = []\n",
        "\n",
        "while(startDate <= endDate):\n",
        "  date = str(startDate).split(\" \")[0]\n",
        "  listOfDatesInTheMonth.append(date)\n",
        "  startDate = startDate + interval\n",
        "\n",
        "finalArray = [[\"Date\"]]\n",
        "for i in range(len(listOfTimesInDay)):\n",
        "  finalArray[0].append(listOfTimesInDay[i])\n",
        "\n",
        "\n",
        "for i in range(len(listOfDatesInTheMonth)):\n",
        "  new = []\n",
        "  new.append(listOfDatesInTheMonth[i])\n",
        "  for j in range(96):\n",
        "    randomNumber = randi(0,10)\n",
        "    new.append(randomNumber)\n",
        "\n",
        "  finalArray.append(new)\n",
        "\n",
        "filename = \"finalArray\" + month + \".csv\"\n",
        "finalArray = np.array(finalArray)\n",
        "np.savetxt(filename, finalArray, delimiter=\",\" ,  fmt = '%s')\n",
        "\n"
      ],
      "execution_count": 7,
      "outputs": [
        {
          "output_type": "stream",
          "text": [
            "Please Enter the month : August\n"
          ],
          "name": "stdout"
        }
      ]
    }
  ]
}